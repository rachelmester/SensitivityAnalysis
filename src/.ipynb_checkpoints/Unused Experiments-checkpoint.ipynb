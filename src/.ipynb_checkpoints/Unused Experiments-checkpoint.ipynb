{
 "cells": [
  {
   "cell_type": "code",
   "execution_count": 1,
   "id": "e1b5816b",
   "metadata": {},
   "outputs": [
    {
     "ename": "LoadError",
     "evalue": "UndefVarError: SIR not defined",
     "output_type": "error",
     "traceback": [
      "UndefVarError: SIR not defined",
      "",
      "Stacktrace:",
      " [1] top-level scope",
      "   @ In[1]:8",
      " [2] eval",
      "   @ .\\boot.jl:373 [inlined]",
      " [3] include_string(mapexpr::typeof(REPL.softscope), mod::Module, code::String, filename::String)",
      "   @ Base .\\loading.jl:1196"
     ]
    }
   ],
   "source": [
    "#SIR with new epsilons\n",
    "\n",
    "N = 3.4e8\n",
    "n = 100\n",
    "change = 0.1\n",
    "x0 = [N - n, n, 0.0]\n",
    "params = [0.7194, 0.5025, N]\n",
    "system = SIR\n",
    "alg = AutoVern9(Rodas5(autodiff=false))\n",
    "tol = 1e-12\n",
    "kwargs = (alg=alg, abstol=tol, reltol=tol)\n",
    "sensealg=nothing\n",
    "epsilon1 = 1e-12\n",
    "epsilon2 = params * 1e-6\n",
    "clamp!(epsilon2, 1e-8, 1e-1) # restrict ϵ₂ to interval [1e-8, 1e-1]\n",
    "\n",
    "accuracy_10 = ODEAccuracy(system, x0, params, sensealg, epsilon1, epsilon2, 10; kwargs...)\n",
    "#time_10 = benchmarkSIR(10, N, n, change, sensealg, epsilon1; kwargs...)\n",
    "#accuracy_100 = ODEAccuracy(system, x0, params, sensealg, epsilon1, epsilon2, 100; kwargs...)\n",
    "#time_100 = benchmarkSIR(100, N, n, change, sensealg, epsilon1; kwargs...)\n",
    "#accuracy_1000 = ODEAccuracy(system, x0, params, sensealg, epsilon1, epsilon2, 1000; kwargs...)\n",
    "#time_1000 = benchmarkSIR(1000, N, n, change, sensealg, epsilon1; kwargs...)\n",
    "\n",
    "#SIR_data = format_info([time_10, time_100, time_1000, accuracy_10, accuracy_100, accuracy_1000])\n",
    "#show(SIR_data, allcols=true)"
   ]
  },
  {
   "cell_type": "code",
   "execution_count": null,
   "id": "6f2aaae0",
   "metadata": {},
   "outputs": [],
   "source": [
    "#SIR model with sensealg = ForwardDiffOverAdjoint(QuadratureAdjoint(autojacvec=EnzymeVJP()))\n",
    "#=Note - I am having trouble getting second_order_sensitivities to work with this sensealg; it just returns zeros.  Not sure\n",
    "quite how to implement this.=#\n",
    "\n",
    "N = 3.4e8\n",
    "n = 100\n",
    "change = 0.1\n",
    "x0 = [N - n, n, 0.0]\n",
    "params = [0.7194, 0.5025, N]\n",
    "system = SIR\n",
    "alg = AutoVern9(Rodas5(autodiff=false))\n",
    "tol = 1e-12\n",
    "kwargs = (alg=alg, abstol=tol, reltol=tol)\n",
    "sensealg = ForwardDiffOverAdjoint(QuadratureAdjoint(autojacvec=EnzymeVJP()))\n",
    "epsilon1 = 1e-12\n",
    "epsilon2 = params * 1e-6\n",
    "clamp!(epsilon2, 1e-8, 1e-1) # restrict ϵ₂ to interval [1e-8, 1e-1]\n",
    "time_1000 = benchmarkSIR(1000, N, n, change, sensealg, epsilon1; kwargs...)\n",
    "time_100 = benchmarkSIR(100, N, n, change, sensealg, epsilon1; kwargs...)\n",
    "time_10 = benchmarkSIR(10, N, n, change, sensealg, epsilon1; kwargs...)\n",
    "accuracy_1000 = ODEAccuracy(system, x0, params, sensealg, epsilon1, epsilon2, 1000; kwargs...)\n",
    "accuracy_100 = ODEAccuracy(system, x0, params, sensealg, epsilon1, epsilon2, 100; kwargs...)\n",
    "accuracy_10 = ODEAccuracy(system, x0, params, sensealg, epsilon1, epsilon2, 10; kwargs...)\n",
    "\n",
    "SIR_data_2 = format_info([time_10, time_100, time_1000, accuracy_10, accuracy_100, accuracy_1000])\n",
    "show(SIR_data_2, allcols=true)"
   ]
  }
 ],
 "metadata": {
  "kernelspec": {
   "display_name": "Julia 1.7.1",
   "language": "julia",
   "name": "julia-1.7"
  },
  "language_info": {
   "file_extension": ".jl",
   "mimetype": "application/julia",
   "name": "julia",
   "version": "1.7.1"
  }
 },
 "nbformat": 4,
 "nbformat_minor": 5
}
